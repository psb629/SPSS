{
 "cells": [
  {
   "cell_type": "code",
   "execution_count": 1,
   "id": "daa79fb1-11b1-443c-bc28-52f289a4bf8d",
   "metadata": {},
   "outputs": [],
   "source": [
    "import os\n",
    "from os.path import join\n",
    "from glob import glob\n",
    "import numpy as np\n",
    "import pandas as pd\n",
    "from scipy.stats import skew, kurtosis\n",
    "import matplotlib.pyplot as plt\n",
    "import seaborn as sns\n",
    "import pyreadstat"
   ]
  },
  {
   "cell_type": "code",
   "execution_count": 2,
   "id": "a1ac25d0-7161-4cf1-8474-d53070e0105c",
   "metadata": {},
   "outputs": [],
   "source": [
    "dir_work = join('/mnt/f/spss')\n",
    "fname = join(dir_work,'KCYPS2018e4Yw5.sav')"
   ]
  },
  {
   "cell_type": "code",
   "execution_count": 3,
   "id": "87f4a497-eaf6-4c01-acd5-c21595f3e16b",
   "metadata": {},
   "outputs": [],
   "source": [
    "df, meta = pyreadstat.read_sav(fname, encoding='cp949')"
   ]
  },
  {
   "cell_type": "markdown",
   "id": "7826735c-b16c-4237-9c22-0b7d7b6578a9",
   "metadata": {},
   "source": [
    "---"
   ]
  },
  {
   "cell_type": "code",
   "execution_count": 4,
   "id": "38db844e-672b-48b7-a6cf-60852009f673",
   "metadata": {},
   "outputs": [],
   "source": [
    "columns = np.array(df.columns)"
   ]
  },
  {
   "cell_type": "code",
   "execution_count": 5,
   "id": "298731f0-a6f7-4281-bcdb-ecc54b1b1b0b",
   "metadata": {},
   "outputs": [
    {
     "data": {
      "text/plain": [
       "array(['[자아존중감]-나는 나에게 만족한다', '[자아존중감]-때때로 나는 내가 어디에도 소용없는 사람이라고 생각한다',\n",
       "       '[자아존중감]-나는 내가 장점이 많다고 느낀다',\n",
       "       '[자아존중감]-나는 내가 적어도 다른 사람만큼 가치 있는 사람이라고 느낀다',\n",
       "       '[자아존중감]-나는 내가 자랑스러워할 만한 것이 별로 없다고 느낀다',\n",
       "       '[자아존중감]-때때로 나는 내가 쓸모없는 존재로 느껴진다', '[자아존중감]-나는 남들만큼의 일은 할 수 있다',\n",
       "       '[자아존중감]-나는 나를 좀 더 존중할 수 있었으면 좋겠다',\n",
       "       '[자아존중감]-나는 내가 실패자라고 느끼는 경향이 있다',\n",
       "       '[자아존중감]-나는 나에 대해 긍정적인 태도를 지니고 있다'], dtype='<U74')"
      ]
     },
     "execution_count": 5,
     "metadata": {},
     "output_type": "execute_result"
    }
   ],
   "source": [
    "tmp = meta.column_labels\n",
    "indices = [i for i, val in enumerate(tmp) if '[자아존중감]' in val]\n",
    "np.array(tmp)[indices]"
   ]
  },
  {
   "cell_type": "code",
   "execution_count": 6,
   "id": "b80b67c8-be56-4bc7-98a4-6202354a3948",
   "metadata": {},
   "outputs": [
    {
     "data": {
      "text/plain": [
       "array(['YPSY3A01w5', 'YPSY3A02w5', 'YPSY3A03w5', 'YPSY3A04w5',\n",
       "       'YPSY3A05w5', 'YPSY3A06w5', 'YPSY3A07w5', 'YPSY3A08w5',\n",
       "       'YPSY3A09w5', 'YPSY3A10w5'], dtype=object)"
      ]
     },
     "execution_count": 6,
     "metadata": {},
     "output_type": "execute_result"
    }
   ],
   "source": [
    "columns = columns[indices]\n",
    "columns"
   ]
  },
  {
   "cell_type": "code",
   "execution_count": 7,
   "id": "6e1f148d-7bc7-4f81-9924-ba7bc0bf1617",
   "metadata": {},
   "outputs": [
    {
     "data": {
      "text/html": [
       "<div>\n",
       "<style scoped>\n",
       "    .dataframe tbody tr th:only-of-type {\n",
       "        vertical-align: middle;\n",
       "    }\n",
       "\n",
       "    .dataframe tbody tr th {\n",
       "        vertical-align: top;\n",
       "    }\n",
       "\n",
       "    .dataframe thead th {\n",
       "        text-align: right;\n",
       "    }\n",
       "</style>\n",
       "<table border=\"1\" class=\"dataframe\">\n",
       "  <thead>\n",
       "    <tr style=\"text-align: right;\">\n",
       "      <th></th>\n",
       "      <th>YPSY3A01w5</th>\n",
       "      <th>YPSY3A02w5</th>\n",
       "      <th>YPSY3A03w5</th>\n",
       "      <th>YPSY3A04w5</th>\n",
       "      <th>YPSY3A05w5</th>\n",
       "      <th>YPSY3A06w5</th>\n",
       "      <th>YPSY3A07w5</th>\n",
       "      <th>YPSY3A08w5</th>\n",
       "      <th>YPSY3A09w5</th>\n",
       "      <th>YPSY3A10w5</th>\n",
       "    </tr>\n",
       "  </thead>\n",
       "  <tbody>\n",
       "    <tr>\n",
       "      <th>0</th>\n",
       "      <td>3.0</td>\n",
       "      <td>3.0</td>\n",
       "      <td>1.0</td>\n",
       "      <td>3.0</td>\n",
       "      <td>1.0</td>\n",
       "      <td>1.0</td>\n",
       "      <td>3.0</td>\n",
       "      <td>1.0</td>\n",
       "      <td>1.0</td>\n",
       "      <td>3.0</td>\n",
       "    </tr>\n",
       "    <tr>\n",
       "      <th>1</th>\n",
       "      <td>3.0</td>\n",
       "      <td>1.0</td>\n",
       "      <td>3.0</td>\n",
       "      <td>3.0</td>\n",
       "      <td>1.0</td>\n",
       "      <td>1.0</td>\n",
       "      <td>3.0</td>\n",
       "      <td>3.0</td>\n",
       "      <td>3.0</td>\n",
       "      <td>3.0</td>\n",
       "    </tr>\n",
       "    <tr>\n",
       "      <th>2</th>\n",
       "      <td>2.0</td>\n",
       "      <td>2.0</td>\n",
       "      <td>3.0</td>\n",
       "      <td>3.0</td>\n",
       "      <td>4.0</td>\n",
       "      <td>2.0</td>\n",
       "      <td>3.0</td>\n",
       "      <td>3.0</td>\n",
       "      <td>2.0</td>\n",
       "      <td>2.0</td>\n",
       "    </tr>\n",
       "    <tr>\n",
       "      <th>3</th>\n",
       "      <td>3.0</td>\n",
       "      <td>2.0</td>\n",
       "      <td>4.0</td>\n",
       "      <td>4.0</td>\n",
       "      <td>4.0</td>\n",
       "      <td>4.0</td>\n",
       "      <td>3.0</td>\n",
       "      <td>2.0</td>\n",
       "      <td>3.0</td>\n",
       "      <td>3.0</td>\n",
       "    </tr>\n",
       "    <tr>\n",
       "      <th>4</th>\n",
       "      <td>3.0</td>\n",
       "      <td>2.0</td>\n",
       "      <td>3.0</td>\n",
       "      <td>3.0</td>\n",
       "      <td>2.0</td>\n",
       "      <td>2.0</td>\n",
       "      <td>3.0</td>\n",
       "      <td>2.0</td>\n",
       "      <td>2.0</td>\n",
       "      <td>3.0</td>\n",
       "    </tr>\n",
       "    <tr>\n",
       "      <th>...</th>\n",
       "      <td>...</td>\n",
       "      <td>...</td>\n",
       "      <td>...</td>\n",
       "      <td>...</td>\n",
       "      <td>...</td>\n",
       "      <td>...</td>\n",
       "      <td>...</td>\n",
       "      <td>...</td>\n",
       "      <td>...</td>\n",
       "      <td>...</td>\n",
       "    </tr>\n",
       "    <tr>\n",
       "      <th>2599</th>\n",
       "      <td>4.0</td>\n",
       "      <td>2.0</td>\n",
       "      <td>4.0</td>\n",
       "      <td>4.0</td>\n",
       "      <td>4.0</td>\n",
       "      <td>4.0</td>\n",
       "      <td>4.0</td>\n",
       "      <td>4.0</td>\n",
       "      <td>4.0</td>\n",
       "      <td>4.0</td>\n",
       "    </tr>\n",
       "    <tr>\n",
       "      <th>2601</th>\n",
       "      <td>3.0</td>\n",
       "      <td>2.0</td>\n",
       "      <td>3.0</td>\n",
       "      <td>3.0</td>\n",
       "      <td>2.0</td>\n",
       "      <td>2.0</td>\n",
       "      <td>3.0</td>\n",
       "      <td>3.0</td>\n",
       "      <td>3.0</td>\n",
       "      <td>2.0</td>\n",
       "    </tr>\n",
       "    <tr>\n",
       "      <th>2603</th>\n",
       "      <td>3.0</td>\n",
       "      <td>2.0</td>\n",
       "      <td>3.0</td>\n",
       "      <td>3.0</td>\n",
       "      <td>3.0</td>\n",
       "      <td>3.0</td>\n",
       "      <td>3.0</td>\n",
       "      <td>3.0</td>\n",
       "      <td>2.0</td>\n",
       "      <td>2.0</td>\n",
       "    </tr>\n",
       "    <tr>\n",
       "      <th>2604</th>\n",
       "      <td>4.0</td>\n",
       "      <td>1.0</td>\n",
       "      <td>4.0</td>\n",
       "      <td>4.0</td>\n",
       "      <td>1.0</td>\n",
       "      <td>1.0</td>\n",
       "      <td>4.0</td>\n",
       "      <td>3.0</td>\n",
       "      <td>2.0</td>\n",
       "      <td>3.0</td>\n",
       "    </tr>\n",
       "    <tr>\n",
       "      <th>2605</th>\n",
       "      <td>2.0</td>\n",
       "      <td>2.0</td>\n",
       "      <td>3.0</td>\n",
       "      <td>3.0</td>\n",
       "      <td>2.0</td>\n",
       "      <td>2.0</td>\n",
       "      <td>3.0</td>\n",
       "      <td>3.0</td>\n",
       "      <td>3.0</td>\n",
       "      <td>3.0</td>\n",
       "    </tr>\n",
       "  </tbody>\n",
       "</table>\n",
       "<p>2311 rows × 10 columns</p>\n",
       "</div>"
      ],
      "text/plain": [
       "      YPSY3A01w5  YPSY3A02w5  YPSY3A03w5  YPSY3A04w5  YPSY3A05w5  YPSY3A06w5  \\\n",
       "0            3.0         3.0         1.0         3.0         1.0         1.0   \n",
       "1            3.0         1.0         3.0         3.0         1.0         1.0   \n",
       "2            2.0         2.0         3.0         3.0         4.0         2.0   \n",
       "3            3.0         2.0         4.0         4.0         4.0         4.0   \n",
       "4            3.0         2.0         3.0         3.0         2.0         2.0   \n",
       "...          ...         ...         ...         ...         ...         ...   \n",
       "2599         4.0         2.0         4.0         4.0         4.0         4.0   \n",
       "2601         3.0         2.0         3.0         3.0         2.0         2.0   \n",
       "2603         3.0         2.0         3.0         3.0         3.0         3.0   \n",
       "2604         4.0         1.0         4.0         4.0         1.0         1.0   \n",
       "2605         2.0         2.0         3.0         3.0         2.0         2.0   \n",
       "\n",
       "      YPSY3A07w5  YPSY3A08w5  YPSY3A09w5  YPSY3A10w5  \n",
       "0            3.0         1.0         1.0         3.0  \n",
       "1            3.0         3.0         3.0         3.0  \n",
       "2            3.0         3.0         2.0         2.0  \n",
       "3            3.0         2.0         3.0         3.0  \n",
       "4            3.0         2.0         2.0         3.0  \n",
       "...          ...         ...         ...         ...  \n",
       "2599         4.0         4.0         4.0         4.0  \n",
       "2601         3.0         3.0         3.0         2.0  \n",
       "2603         3.0         3.0         2.0         2.0  \n",
       "2604         4.0         3.0         2.0         3.0  \n",
       "2605         3.0         3.0         3.0         3.0  \n",
       "\n",
       "[2311 rows x 10 columns]"
      ]
     },
     "execution_count": 7,
     "metadata": {},
     "output_type": "execute_result"
    }
   ],
   "source": [
    "dg = df[columns].dropna()\n",
    "dg"
   ]
  },
  {
   "cell_type": "code",
   "execution_count": 8,
   "id": "c0d187b8-5175-40df-93eb-477a02411139",
   "metadata": {},
   "outputs": [
    {
     "data": {
      "text/html": [
       "<div>\n",
       "<style scoped>\n",
       "    .dataframe tbody tr th:only-of-type {\n",
       "        vertical-align: middle;\n",
       "    }\n",
       "\n",
       "    .dataframe tbody tr th {\n",
       "        vertical-align: top;\n",
       "    }\n",
       "\n",
       "    .dataframe thead th {\n",
       "        text-align: right;\n",
       "    }\n",
       "</style>\n",
       "<table border=\"1\" class=\"dataframe\">\n",
       "  <thead>\n",
       "    <tr style=\"text-align: right;\">\n",
       "      <th></th>\n",
       "      <th>YPSY3A01w5</th>\n",
       "      <th>YPSY3A02w5</th>\n",
       "      <th>YPSY3A03w5</th>\n",
       "      <th>YPSY3A04w5</th>\n",
       "      <th>YPSY3A05w5</th>\n",
       "      <th>YPSY3A06w5</th>\n",
       "      <th>YPSY3A07w5</th>\n",
       "      <th>YPSY3A08w5</th>\n",
       "      <th>YPSY3A09w5</th>\n",
       "      <th>YPSY3A10w5</th>\n",
       "    </tr>\n",
       "  </thead>\n",
       "  <tbody>\n",
       "    <tr>\n",
       "      <th>0</th>\n",
       "      <td>3.0</td>\n",
       "      <td>2.0</td>\n",
       "      <td>1.0</td>\n",
       "      <td>3.0</td>\n",
       "      <td>4.0</td>\n",
       "      <td>4.0</td>\n",
       "      <td>3.0</td>\n",
       "      <td>4.0</td>\n",
       "      <td>4.0</td>\n",
       "      <td>3.0</td>\n",
       "    </tr>\n",
       "    <tr>\n",
       "      <th>1</th>\n",
       "      <td>3.0</td>\n",
       "      <td>4.0</td>\n",
       "      <td>3.0</td>\n",
       "      <td>3.0</td>\n",
       "      <td>4.0</td>\n",
       "      <td>4.0</td>\n",
       "      <td>3.0</td>\n",
       "      <td>2.0</td>\n",
       "      <td>2.0</td>\n",
       "      <td>3.0</td>\n",
       "    </tr>\n",
       "    <tr>\n",
       "      <th>2</th>\n",
       "      <td>2.0</td>\n",
       "      <td>3.0</td>\n",
       "      <td>3.0</td>\n",
       "      <td>3.0</td>\n",
       "      <td>1.0</td>\n",
       "      <td>3.0</td>\n",
       "      <td>3.0</td>\n",
       "      <td>2.0</td>\n",
       "      <td>3.0</td>\n",
       "      <td>2.0</td>\n",
       "    </tr>\n",
       "    <tr>\n",
       "      <th>3</th>\n",
       "      <td>3.0</td>\n",
       "      <td>3.0</td>\n",
       "      <td>4.0</td>\n",
       "      <td>4.0</td>\n",
       "      <td>1.0</td>\n",
       "      <td>1.0</td>\n",
       "      <td>3.0</td>\n",
       "      <td>3.0</td>\n",
       "      <td>2.0</td>\n",
       "      <td>3.0</td>\n",
       "    </tr>\n",
       "    <tr>\n",
       "      <th>4</th>\n",
       "      <td>3.0</td>\n",
       "      <td>3.0</td>\n",
       "      <td>3.0</td>\n",
       "      <td>3.0</td>\n",
       "      <td>3.0</td>\n",
       "      <td>3.0</td>\n",
       "      <td>3.0</td>\n",
       "      <td>3.0</td>\n",
       "      <td>3.0</td>\n",
       "      <td>3.0</td>\n",
       "    </tr>\n",
       "    <tr>\n",
       "      <th>...</th>\n",
       "      <td>...</td>\n",
       "      <td>...</td>\n",
       "      <td>...</td>\n",
       "      <td>...</td>\n",
       "      <td>...</td>\n",
       "      <td>...</td>\n",
       "      <td>...</td>\n",
       "      <td>...</td>\n",
       "      <td>...</td>\n",
       "      <td>...</td>\n",
       "    </tr>\n",
       "    <tr>\n",
       "      <th>2599</th>\n",
       "      <td>4.0</td>\n",
       "      <td>3.0</td>\n",
       "      <td>4.0</td>\n",
       "      <td>4.0</td>\n",
       "      <td>1.0</td>\n",
       "      <td>1.0</td>\n",
       "      <td>4.0</td>\n",
       "      <td>1.0</td>\n",
       "      <td>1.0</td>\n",
       "      <td>4.0</td>\n",
       "    </tr>\n",
       "    <tr>\n",
       "      <th>2601</th>\n",
       "      <td>3.0</td>\n",
       "      <td>3.0</td>\n",
       "      <td>3.0</td>\n",
       "      <td>3.0</td>\n",
       "      <td>3.0</td>\n",
       "      <td>3.0</td>\n",
       "      <td>3.0</td>\n",
       "      <td>2.0</td>\n",
       "      <td>2.0</td>\n",
       "      <td>2.0</td>\n",
       "    </tr>\n",
       "    <tr>\n",
       "      <th>2603</th>\n",
       "      <td>3.0</td>\n",
       "      <td>3.0</td>\n",
       "      <td>3.0</td>\n",
       "      <td>3.0</td>\n",
       "      <td>2.0</td>\n",
       "      <td>2.0</td>\n",
       "      <td>3.0</td>\n",
       "      <td>2.0</td>\n",
       "      <td>3.0</td>\n",
       "      <td>2.0</td>\n",
       "    </tr>\n",
       "    <tr>\n",
       "      <th>2604</th>\n",
       "      <td>4.0</td>\n",
       "      <td>4.0</td>\n",
       "      <td>4.0</td>\n",
       "      <td>4.0</td>\n",
       "      <td>4.0</td>\n",
       "      <td>4.0</td>\n",
       "      <td>4.0</td>\n",
       "      <td>2.0</td>\n",
       "      <td>3.0</td>\n",
       "      <td>3.0</td>\n",
       "    </tr>\n",
       "    <tr>\n",
       "      <th>2605</th>\n",
       "      <td>2.0</td>\n",
       "      <td>3.0</td>\n",
       "      <td>3.0</td>\n",
       "      <td>3.0</td>\n",
       "      <td>3.0</td>\n",
       "      <td>3.0</td>\n",
       "      <td>3.0</td>\n",
       "      <td>2.0</td>\n",
       "      <td>2.0</td>\n",
       "      <td>3.0</td>\n",
       "    </tr>\n",
       "  </tbody>\n",
       "</table>\n",
       "<p>2311 rows × 10 columns</p>\n",
       "</div>"
      ],
      "text/plain": [
       "      YPSY3A01w5  YPSY3A02w5  YPSY3A03w5  YPSY3A04w5  YPSY3A05w5  YPSY3A06w5  \\\n",
       "0            3.0         2.0         1.0         3.0         4.0         4.0   \n",
       "1            3.0         4.0         3.0         3.0         4.0         4.0   \n",
       "2            2.0         3.0         3.0         3.0         1.0         3.0   \n",
       "3            3.0         3.0         4.0         4.0         1.0         1.0   \n",
       "4            3.0         3.0         3.0         3.0         3.0         3.0   \n",
       "...          ...         ...         ...         ...         ...         ...   \n",
       "2599         4.0         3.0         4.0         4.0         1.0         1.0   \n",
       "2601         3.0         3.0         3.0         3.0         3.0         3.0   \n",
       "2603         3.0         3.0         3.0         3.0         2.0         2.0   \n",
       "2604         4.0         4.0         4.0         4.0         4.0         4.0   \n",
       "2605         2.0         3.0         3.0         3.0         3.0         3.0   \n",
       "\n",
       "      YPSY3A07w5  YPSY3A08w5  YPSY3A09w5  YPSY3A10w5  \n",
       "0            3.0         4.0         4.0         3.0  \n",
       "1            3.0         2.0         2.0         3.0  \n",
       "2            3.0         2.0         3.0         2.0  \n",
       "3            3.0         3.0         2.0         3.0  \n",
       "4            3.0         3.0         3.0         3.0  \n",
       "...          ...         ...         ...         ...  \n",
       "2599         4.0         1.0         1.0         4.0  \n",
       "2601         3.0         2.0         2.0         2.0  \n",
       "2603         3.0         2.0         3.0         2.0  \n",
       "2604         4.0         2.0         3.0         3.0  \n",
       "2605         3.0         2.0         2.0         3.0  \n",
       "\n",
       "[2311 rows x 10 columns]"
      ]
     },
     "execution_count": 8,
     "metadata": {},
     "output_type": "execute_result"
    }
   ],
   "source": [
    "## 2,5,6,8,9 열은 5-val로 치환\n",
    "tmp = np.array([2, 5, 6, 8, 9])-1\n",
    "col = columns[tmp]\n",
    "dg[col] = 5 - dg[col]\n",
    "dg"
   ]
  },
  {
   "cell_type": "code",
   "execution_count": 9,
   "id": "5f3c40b0-39e7-4753-887b-2f65383730dd",
   "metadata": {
    "scrolled": true
   },
   "outputs": [
    {
     "data": {
      "text/plain": [
       "array([31., 31., 25., ..., 26., 36., 27.])"
      ]
     },
     "execution_count": 9,
     "metadata": {},
     "output_type": "execute_result"
    }
   ],
   "source": [
    "tmp = dg.loc[:,columns].sum(axis=1).values\n",
    "tmp"
   ]
  },
  {
   "cell_type": "code",
   "execution_count": 10,
   "id": "ed984d69-74b0-4859-8855-091f0c04d796",
   "metadata": {},
   "outputs": [
    {
     "data": {
      "text/plain": [
       "<Axes: ylabel='Count'>"
      ]
     },
     "execution_count": 10,
     "metadata": {},
     "output_type": "execute_result"
    },
    {
     "data": {
      "image/png": "[encoded data removed]",
      "text/plain": [
       "<Figure size 640x480 with 1 Axes>"
      ]
     },
     "metadata": {},
     "output_type": "display_data"
    }
   ],
   "source": [
    "sns.histplot(tmp)"
   ]
  },
  {
   "cell_type": "code",
   "execution_count": 11,
   "id": "bed4b941-ac15-45b4-8ff6-abd76d6d3d8a",
   "metadata": {},
   "outputs": [],
   "source": [
    "## 평균\n",
    "mean_val = np.mean(tmp)\n",
    "\n",
    "## 표준편차\n",
    "std_val = np.std(tmp, ddof=1)   # 표본 표준편차 (ddof=1), 모표준편차는 ddof=0\n",
    "\n",
    "## 왜도 (skewness)\n",
    "skew_val = skew(tmp)\n",
    "\n",
    "## 첨도 (kurtosis)\n",
    "kurt_val = kurtosis(tmp)  # 기본적으로 Fisher 정의 (정규분포=0)"
   ]
  },
  {
   "cell_type": "code",
   "execution_count": 12,
   "id": "84d195ba-e00c-462c-a081-4dc4ec1e5f44",
   "metadata": {},
   "outputs": [
    {
     "name": "stdout",
     "output_type": "stream",
     "text": [
      "평균: 29.032020770229337\n",
      "표준편차: 4.305519987752509\n",
      "왜도: 0.03397383287444565\n",
      "첨도: 0.49516474378291075\n"
     ]
    }
   ],
   "source": [
    "print(\"평균:\", mean_val)\n",
    "print(\"표준편차:\", std_val)\n",
    "print(\"왜도:\", skew_val)\n",
    "print(\"첨도:\", kurt_val)"
   ]
  },
  {
   "cell_type": "markdown",
   "id": "386319ae-049b-43b4-a19a-160aab76dea8",
   "metadata": {},
   "source": [
    "---"
   ]
  },
  {
   "cell_type": "code",
   "execution_count": 13,
   "id": "dccb82ae-269d-4ad8-8763-6b59a23fd500",
   "metadata": {},
   "outputs": [],
   "source": [
    "columns = np.array(df.columns)"
   ]
  },
  {
   "cell_type": "code",
   "execution_count": 14,
   "id": "a4bb63f4-313c-4e74-9517-5dad81b7c97d",
   "metadata": {},
   "outputs": [
    {
     "data": {
      "text/plain": [
       "array(['[우울]-기운이 별로 없다', '[우울]-불행하다고 생각하거나 슬퍼하고 우울해한다', '[우울]-걱정이 많다',\n",
       "       '[우울]-죽고 싶은 생각이 든다', '[우울]-울기를 잘한다',\n",
       "       '[우울]-어떤 일이 잘못 되었을 때 나 때문이라는 생각을 자주 한다', '[우울]-외롭다',\n",
       "       '[우울]-모든 일에 관심과 흥미가 없다', '[우울]-장래가 희망적이지 않은 것 같다',\n",
       "       '[우울]-모든 일이 힘들다'], dtype='<U74')"
      ]
     },
     "execution_count": 14,
     "metadata": {},
     "output_type": "execute_result"
    }
   ],
   "source": [
    "tmp = meta.column_labels\n",
    "indices = [i for i, val in enumerate(tmp) if '[우울]' in val]\n",
    "np.array(tmp)[indices]"
   ]
  },
  {
   "cell_type": "code",
   "execution_count": 15,
   "id": "c5fab469-43c6-4d1c-bc9f-9acc282ba8a4",
   "metadata": {},
   "outputs": [
    {
     "data": {
      "text/plain": [
       "array(['YPSY4E01w5', 'YPSY4E02w5', 'YPSY4E03w5', 'YPSY4E04w5',\n",
       "       'YPSY4E05w5', 'YPSY4E06w5', 'YPSY4E07w5', 'YPSY4E08w5',\n",
       "       'YPSY4E09w5', 'YPSY4E10w5'], dtype=object)"
      ]
     },
     "execution_count": 15,
     "metadata": {},
     "output_type": "execute_result"
    }
   ],
   "source": [
    "columns = columns[indices]\n",
    "columns"
   ]
  },
  {
   "cell_type": "code",
   "execution_count": 16,
   "id": "69fd48f6-01f0-45b9-80b3-b1190720688e",
   "metadata": {},
   "outputs": [
    {
     "data": {
      "text/html": [
       "<div>\n",
       "<style scoped>\n",
       "    .dataframe tbody tr th:only-of-type {\n",
       "        vertical-align: middle;\n",
       "    }\n",
       "\n",
       "    .dataframe tbody tr th {\n",
       "        vertical-align: top;\n",
       "    }\n",
       "\n",
       "    .dataframe thead th {\n",
       "        text-align: right;\n",
       "    }\n",
       "</style>\n",
       "<table border=\"1\" class=\"dataframe\">\n",
       "  <thead>\n",
       "    <tr style=\"text-align: right;\">\n",
       "      <th></th>\n",
       "      <th>YPSY4E01w5</th>\n",
       "      <th>YPSY4E02w5</th>\n",
       "      <th>YPSY4E03w5</th>\n",
       "      <th>YPSY4E04w5</th>\n",
       "      <th>YPSY4E05w5</th>\n",
       "      <th>YPSY4E06w5</th>\n",
       "      <th>YPSY4E07w5</th>\n",
       "      <th>YPSY4E08w5</th>\n",
       "      <th>YPSY4E09w5</th>\n",
       "      <th>YPSY4E10w5</th>\n",
       "    </tr>\n",
       "  </thead>\n",
       "  <tbody>\n",
       "    <tr>\n",
       "      <th>0</th>\n",
       "      <td>1.0</td>\n",
       "      <td>2.0</td>\n",
       "      <td>2.0</td>\n",
       "      <td>1.0</td>\n",
       "      <td>1.0</td>\n",
       "      <td>2.0</td>\n",
       "      <td>1.0</td>\n",
       "      <td>2.0</td>\n",
       "      <td>2.0</td>\n",
       "      <td>1.0</td>\n",
       "    </tr>\n",
       "    <tr>\n",
       "      <th>1</th>\n",
       "      <td>1.0</td>\n",
       "      <td>1.0</td>\n",
       "      <td>3.0</td>\n",
       "      <td>1.0</td>\n",
       "      <td>1.0</td>\n",
       "      <td>1.0</td>\n",
       "      <td>2.0</td>\n",
       "      <td>1.0</td>\n",
       "      <td>1.0</td>\n",
       "      <td>1.0</td>\n",
       "    </tr>\n",
       "    <tr>\n",
       "      <th>2</th>\n",
       "      <td>2.0</td>\n",
       "      <td>3.0</td>\n",
       "      <td>3.0</td>\n",
       "      <td>2.0</td>\n",
       "      <td>2.0</td>\n",
       "      <td>2.0</td>\n",
       "      <td>2.0</td>\n",
       "      <td>2.0</td>\n",
       "      <td>2.0</td>\n",
       "      <td>1.0</td>\n",
       "    </tr>\n",
       "    <tr>\n",
       "      <th>3</th>\n",
       "      <td>2.0</td>\n",
       "      <td>1.0</td>\n",
       "      <td>3.0</td>\n",
       "      <td>1.0</td>\n",
       "      <td>1.0</td>\n",
       "      <td>1.0</td>\n",
       "      <td>1.0</td>\n",
       "      <td>1.0</td>\n",
       "      <td>1.0</td>\n",
       "      <td>1.0</td>\n",
       "    </tr>\n",
       "    <tr>\n",
       "      <th>4</th>\n",
       "      <td>2.0</td>\n",
       "      <td>2.0</td>\n",
       "      <td>2.0</td>\n",
       "      <td>2.0</td>\n",
       "      <td>2.0</td>\n",
       "      <td>3.0</td>\n",
       "      <td>2.0</td>\n",
       "      <td>1.0</td>\n",
       "      <td>2.0</td>\n",
       "      <td>2.0</td>\n",
       "    </tr>\n",
       "    <tr>\n",
       "      <th>...</th>\n",
       "      <td>...</td>\n",
       "      <td>...</td>\n",
       "      <td>...</td>\n",
       "      <td>...</td>\n",
       "      <td>...</td>\n",
       "      <td>...</td>\n",
       "      <td>...</td>\n",
       "      <td>...</td>\n",
       "      <td>...</td>\n",
       "      <td>...</td>\n",
       "    </tr>\n",
       "    <tr>\n",
       "      <th>2599</th>\n",
       "      <td>3.0</td>\n",
       "      <td>1.0</td>\n",
       "      <td>1.0</td>\n",
       "      <td>1.0</td>\n",
       "      <td>1.0</td>\n",
       "      <td>1.0</td>\n",
       "      <td>1.0</td>\n",
       "      <td>1.0</td>\n",
       "      <td>1.0</td>\n",
       "      <td>1.0</td>\n",
       "    </tr>\n",
       "    <tr>\n",
       "      <th>2601</th>\n",
       "      <td>2.0</td>\n",
       "      <td>2.0</td>\n",
       "      <td>4.0</td>\n",
       "      <td>2.0</td>\n",
       "      <td>1.0</td>\n",
       "      <td>3.0</td>\n",
       "      <td>2.0</td>\n",
       "      <td>1.0</td>\n",
       "      <td>3.0</td>\n",
       "      <td>2.0</td>\n",
       "    </tr>\n",
       "    <tr>\n",
       "      <th>2603</th>\n",
       "      <td>3.0</td>\n",
       "      <td>2.0</td>\n",
       "      <td>1.0</td>\n",
       "      <td>1.0</td>\n",
       "      <td>3.0</td>\n",
       "      <td>1.0</td>\n",
       "      <td>1.0</td>\n",
       "      <td>1.0</td>\n",
       "      <td>1.0</td>\n",
       "      <td>1.0</td>\n",
       "    </tr>\n",
       "    <tr>\n",
       "      <th>2604</th>\n",
       "      <td>1.0</td>\n",
       "      <td>1.0</td>\n",
       "      <td>1.0</td>\n",
       "      <td>1.0</td>\n",
       "      <td>1.0</td>\n",
       "      <td>4.0</td>\n",
       "      <td>4.0</td>\n",
       "      <td>1.0</td>\n",
       "      <td>1.0</td>\n",
       "      <td>1.0</td>\n",
       "    </tr>\n",
       "    <tr>\n",
       "      <th>2605</th>\n",
       "      <td>2.0</td>\n",
       "      <td>2.0</td>\n",
       "      <td>3.0</td>\n",
       "      <td>2.0</td>\n",
       "      <td>2.0</td>\n",
       "      <td>3.0</td>\n",
       "      <td>2.0</td>\n",
       "      <td>2.0</td>\n",
       "      <td>2.0</td>\n",
       "      <td>2.0</td>\n",
       "    </tr>\n",
       "  </tbody>\n",
       "</table>\n",
       "<p>2311 rows × 10 columns</p>\n",
       "</div>"
      ],
      "text/plain": [
       "      YPSY4E01w5  YPSY4E02w5  YPSY4E03w5  YPSY4E04w5  YPSY4E05w5  YPSY4E06w5  \\\n",
       "0            1.0         2.0         2.0         1.0         1.0         2.0   \n",
       "1            1.0         1.0         3.0         1.0         1.0         1.0   \n",
       "2            2.0         3.0         3.0         2.0         2.0         2.0   \n",
       "3            2.0         1.0         3.0         1.0         1.0         1.0   \n",
       "4            2.0         2.0         2.0         2.0         2.0         3.0   \n",
       "...          ...         ...         ...         ...         ...         ...   \n",
       "2599         3.0         1.0         1.0         1.0         1.0         1.0   \n",
       "2601         2.0         2.0         4.0         2.0         1.0         3.0   \n",
       "2603         3.0         2.0         1.0         1.0         3.0         1.0   \n",
       "2604         1.0         1.0         1.0         1.0         1.0         4.0   \n",
       "2605         2.0         2.0         3.0         2.0         2.0         3.0   \n",
       "\n",
       "      YPSY4E07w5  YPSY4E08w5  YPSY4E09w5  YPSY4E10w5  \n",
       "0            1.0         2.0         2.0         1.0  \n",
       "1            2.0         1.0         1.0         1.0  \n",
       "2            2.0         2.0         2.0         1.0  \n",
       "3            1.0         1.0         1.0         1.0  \n",
       "4            2.0         1.0         2.0         2.0  \n",
       "...          ...         ...         ...         ...  \n",
       "2599         1.0         1.0         1.0         1.0  \n",
       "2601         2.0         1.0         3.0         2.0  \n",
       "2603         1.0         1.0         1.0         1.0  \n",
       "2604         4.0         1.0         1.0         1.0  \n",
       "2605         2.0         2.0         2.0         2.0  \n",
       "\n",
       "[2311 rows x 10 columns]"
      ]
     },
     "execution_count": 16,
     "metadata": {},
     "output_type": "execute_result"
    }
   ],
   "source": [
    "dg = df[columns].dropna()\n",
    "dg"
   ]
  },
  {
   "cell_type": "code",
   "execution_count": 17,
   "id": "196d3f1b-7b0a-43a4-8787-32898f95c32c",
   "metadata": {
    "scrolled": true
   },
   "outputs": [
    {
     "data": {
      "text/plain": [
       "array([15., 13., 21., ..., 15., 16., 22.])"
      ]
     },
     "execution_count": 17,
     "metadata": {},
     "output_type": "execute_result"
    }
   ],
   "source": [
    "tmp = dg.loc[:,columns].sum(axis=1).values\n",
    "tmp"
   ]
  },
  {
   "cell_type": "code",
   "execution_count": 18,
   "id": "5d1a55cd-0e23-49e1-afd1-db428db0ebf4",
   "metadata": {},
   "outputs": [
    {
     "data": {
      "text/plain": [
       "<Axes: ylabel='Count'>"
      ]
     },
     "execution_count": 18,
     "metadata": {},
     "output_type": "execute_result"
    },
    {
     "data": {
      "image/png": "[encoded data removed]",
      "text/plain": [
       "<Figure size 640x480 with 1 Axes>"
      ]
     },
     "metadata": {},
     "output_type": "display_data"
    }
   ],
   "source": [
    "sns.histplot(tmp)"
   ]
  },
  {
   "cell_type": "code",
   "execution_count": 19,
   "id": "30e9fff5-6aa6-4a1a-874b-930af4c49395",
   "metadata": {},
   "outputs": [],
   "source": [
    "## 평균\n",
    "mean_val = np.mean(tmp)\n",
    "\n",
    "## 표준편차\n",
    "std_val = np.std(tmp, ddof=1)   # 표본 표준편차 (ddof=1), 모표준편차는 ddof=0\n",
    "\n",
    "## 왜도 (skewness)\n",
    "skew_val = skew(tmp)\n",
    "\n",
    "## 첨도 (kurtosis)\n",
    "kurt_val = kurtosis(tmp)  # 기본적으로 Fisher 정의 (정규분포=0)"
   ]
  },
  {
   "cell_type": "code",
   "execution_count": 20,
   "id": "10643834-5932-440a-957c-20452d39b000",
   "metadata": {},
   "outputs": [
    {
     "name": "stdout",
     "output_type": "stream",
     "text": [
      "평균: 17.537862397230636\n",
      "표준편차: 5.299286770609907\n",
      "왜도: 0.6375384796452895\n",
      "첨도: 0.38149782617430095\n"
     ]
    }
   ],
   "source": [
    "print(\"평균:\", mean_val)\n",
    "print(\"표준편차:\", std_val)\n",
    "print(\"왜도:\", skew_val)\n",
    "print(\"첨도:\", kurt_val)"
   ]
  },
  {
   "cell_type": "markdown",
   "id": "04e2979e-2f4c-4e11-b433-f1fdb478388c",
   "metadata": {},
   "source": [
    "---"
   ]
  },
  {
   "cell_type": "code",
   "execution_count": null,
   "id": "bbeeed6f-0040-42af-b74c-f83fed524396",
   "metadata": {},
   "outputs": [],
   "source": []
  }
 ],
 "metadata": {
  "kernelspec": {
   "display_name": "spss",
   "language": "python",
   "name": "spss"
  },
  "language_info": {
   "codemirror_mode": {
    "name": "ipython",
    "version": 3
   },
   "file_extension": ".py",
   "mimetype": "text/x-python",
   "name": "python",
   "nbconvert_exporter": "python",
   "pygments_lexer": "ipython3",
   "version": "3.9.24"
  }
 },
 "nbformat": 4,
 "nbformat_minor": 5
}
